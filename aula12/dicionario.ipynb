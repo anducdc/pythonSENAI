{
 "cells": [
  {
   "cell_type": "markdown",
   "metadata": {},
   "source": [
    "# Dicionario\n",
    "\n",
    "É um conjunto de chaves e valores que distinguem um objeto. Estas chaves nós chamamos de KEYS e seus VALUES. É um tipo especial de variável python identificada pelas {}.\n"
   ]
  },
  {
   "cell_type": "code",
   "execution_count": 1,
   "metadata": {},
   "outputs": [
    {
     "name": "stdout",
     "output_type": "stream",
     "text": [
      "{'nome': 'Anderson', 'idade': 34, 'cidade': 'Quexeramobim'}\n"
     ]
    }
   ],
   "source": [
    "pessoa = {\n",
    "    'nome': 'Anderson',\n",
    "    'idade': 34,\n",
    "    'cidade': 'Quexeramobim' \n",
    "}\n",
    "\n",
    "print(pessoa)"
   ]
  },
  {
   "cell_type": "code",
   "execution_count": 4,
   "metadata": {},
   "outputs": [
    {
     "name": "stdout",
     "output_type": "stream",
     "text": [
      "dict_keys(['nome', 'idade', 'cidade'])\n",
      "dict_values(['Anderson', 34, 'Quexeramobim'])\n"
     ]
    }
   ],
   "source": [
    "# Metodo KEYS()\n",
    "\n",
    "print(pessoa.keys())\n",
    "\n",
    "# Metodo VALUES()\n",
    "\n",
    "print(pessoa.values())"
   ]
  },
  {
   "cell_type": "code",
   "execution_count": 5,
   "metadata": {},
   "outputs": [
    {
     "data": {
      "text/plain": [
       "34"
      ]
     },
     "execution_count": 5,
     "metadata": {},
     "output_type": "execute_result"
    }
   ],
   "source": [
    "# Consultando valores especificos em um dicionário\n",
    "\n",
    "pessoa['idade']"
   ]
  },
  {
   "cell_type": "code",
   "execution_count": 6,
   "metadata": {},
   "outputs": [
    {
     "name": "stdout",
     "output_type": "stream",
     "text": [
      "{'nome': 'Anderson', 'idade': 34, 'cidade': 'Quexeramobim'}\n",
      "{'nome': 'Anderson', 'idade': 34, 'cidade': 'Brasília'}\n"
     ]
    }
   ],
   "source": [
    "# Atribuindo um novo valor a uma chave\n",
    "\n",
    "print(pessoa)\n",
    "pessoa['cidade'] = 'Brasília'\n",
    "print(pessoa)"
   ]
  },
  {
   "cell_type": "code",
   "execution_count": 7,
   "metadata": {},
   "outputs": [
    {
     "name": "stdout",
     "output_type": "stream",
     "text": [
      "{'nome': 'Anderson', 'idade': 34, 'cidade': 'Brasília', 'email': 'anducdc@hotmail.com'}\n"
     ]
    }
   ],
   "source": [
    "# Criando uma nova chave\n",
    "\n",
    "pessoa['email'] = 'anducdc@hotmail.com'\n",
    "\n",
    "print(pessoa)\n"
   ]
  },
  {
   "cell_type": "code",
   "execution_count": null,
   "metadata": {},
   "outputs": [],
   "source": [
    "# Deletando uma chave e seu valor \n",
    "#del pessoa\n",
    "#del pessoa['idade']  # / pessoa.pop('cidade')\n",
    "\n"
   ]
  },
  {
   "cell_type": "code",
   "execution_count": 19,
   "metadata": {},
   "outputs": [
    {
     "name": "stdout",
     "output_type": "stream",
     "text": [
      "[{'nome': 'Dani', 'cidade': 'Águas Claras'}, {'nome': 'Marcos', 'cidade': 'Recanto'}, {'nome': 'Luana', 'cidade': 'Brasília'}, {'nome': 'Fran', 'cidade': 'Ceilândia'}]\n",
      "{'nome': 'Dani', 'cidade': 'Águas Claras'}\n",
      "{'nome': 'Marcos', 'cidade': 'Recanto'}\n",
      "{'nome': 'Luana', 'cidade': 'Brasília'}\n",
      "{'nome': 'Fran', 'cidade': 'Ceilândia'}\n",
      "0 {'nome': 'Dani', 'cidade': 'Águas Claras'}\n",
      "1 {'nome': 'Marcos', 'cidade': 'Recanto'}\n",
      "2 {'nome': 'Luana', 'cidade': 'Brasília'}\n",
      "3 {'nome': 'Fran', 'cidade': 'Ceilândia'}\n"
     ]
    }
   ],
   "source": [
    "alunos = [\n",
    "    {'nome': 'Dani', 'cidade': 'Águas Claras'},\n",
    "    {'nome': 'Marcos', 'cidade': 'Recanto'},\n",
    "    {'nome': 'Luana', 'cidade': 'Brasília'},\n",
    "    {'nome': 'Fran', 'cidade': 'Ceilândia'}\n",
    "]\n",
    "\n",
    "print(alunos)\n",
    "\n",
    "for aluno in alunos:\n",
    "    print(aluno)\n",
    "\n",
    "for indice, aluno in enumerate(alunos):\n",
    "    print(indice, aluno)"
   ]
  },
  {
   "cell_type": "code",
   "execution_count": 22,
   "metadata": {},
   "outputs": [
    {
     "name": "stdout",
     "output_type": "stream",
     "text": [
      "{'nome': 'Luana', 'cidade': 'Brasília'}\n",
      "Samambaia\n"
     ]
    }
   ],
   "source": [
    "print(alunos[2])\n",
    "\n",
    "alunos[2]['cidade'] = 'Samambaia'\n",
    "print(alunos[2]['cidade'])"
   ]
  },
  {
   "cell_type": "code",
   "execution_count": 23,
   "metadata": {},
   "outputs": [
    {
     "name": "stdout",
     "output_type": "stream",
     "text": [
      "{'Dan': {'matrícula': '1234', 'escolaridade': 'superior'}, 'Luana': {'matrícula': '5678', 'escolaridade': 'superior'}, 'Gilmar': {'matrícula': '1212', 'escolaridade': 'superior'}, 'Felipe': {'matrícula': '8547', 'escolaridade': 'medio'}}\n"
     ]
    }
   ],
   "source": [
    "alunos_dicionario = {\n",
    "    'Dan': {'matrícula':'1234', 'escolaridade': 'superior'},\n",
    "    'Luana': {'matrícula':'5678', 'escolaridade': 'superior'},\n",
    "    'Gilmar': {'matrícula':'1212', 'escolaridade': 'superior'},\n",
    "    'Felipe': {'matrícula':'8547', 'escolaridade': 'medio'},\n",
    "}\n",
    "\n",
    "print(alunos_dicionario)"
   ]
  },
  {
   "cell_type": "code",
   "execution_count": 24,
   "metadata": {},
   "outputs": [
    {
     "name": "stdout",
     "output_type": "stream",
     "text": [
      "medio\n"
     ]
    }
   ],
   "source": [
    "print(alunos_dicionario['Felipe']['escolaridade'])"
   ]
  },
  {
   "cell_type": "markdown",
   "metadata": {},
   "source": []
  }
 ],
 "metadata": {
  "interpreter": {
   "hash": "023695796a0456db28915f727eb64cb942055160ea749933aa044f2070f70f3a"
  },
  "kernelspec": {
   "display_name": "Python 3.12.5 64-bit (windows store)",
   "language": "python",
   "name": "python3"
  },
  "language_info": {
   "codemirror_mode": {
    "name": "ipython",
    "version": 3
   },
   "file_extension": ".py",
   "mimetype": "text/x-python",
   "name": "python",
   "nbconvert_exporter": "python",
   "pygments_lexer": "ipython3",
   "version": "3.12.5"
  },
  "orig_nbformat": 4
 },
 "nbformat": 4,
 "nbformat_minor": 2
}
