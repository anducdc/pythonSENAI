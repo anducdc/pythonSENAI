{
 "cells": [
  {
   "cell_type": "code",
   "execution_count": 1,
   "id": "8ced3d03-0e08-4318-885f-8a09fb532fdd",
   "metadata": {},
   "outputs": [
    {
     "data": {
      "text/plain": [
       "True"
      ]
     },
     "metadata": {},
     "output_type": "display_data"
    }
   ],
   "source": [
    "resposta = any([False, False, False, False, False])\n",
    "display(resposta)"
   ]
  },
  {
   "cell_type": "code",
   "execution_count": null,
   "id": "492f39e3-f500-42c8-81e9-786819b05ec0",
   "metadata": {},
   "outputs": [],
   "source": []
  }
 ],
 "metadata": {
  "kernelspec": {
   "display_name": "Python 3 (ipykernel)",
   "language": "python",
   "name": "python3"
  },
  "language_info": {
   "codemirror_mode": {
    "name": "ipython",
    "version": 3
   },
   "file_extension": ".py",
   "mimetype": "text/x-python",
   "name": "python",
   "nbconvert_exporter": "python",
   "pygments_lexer": "ipython3",
   "version": "3.12.5"
  }
 },
 "nbformat": 4,
 "nbformat_minor": 5
}
